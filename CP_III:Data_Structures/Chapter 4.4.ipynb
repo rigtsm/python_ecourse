{
 "cells": [
  {
   "cell_type": "markdown",
   "metadata": {},
   "source": [
    "# [File Input and Output](https://courses.edx.org/courses/course-v1:GTx+CS1301xIII+3T2019/courseware/7892fb1261074c2a8aaa774935f5f1bb/724c733ee99c4d0c830f6d645f473053/?child=first)"
   ]
  },
  {
   "cell_type": "markdown",
   "metadata": {},
   "source": [
    "## Opening and Closing files"
   ]
  },
  {
   "cell_type": "markdown",
   "metadata": {},
   "source": [
    "When a program has opened a file, other programs are not allowd to modifiy it. This is why we need to open and after close the file when we finished using it."
   ]
  },
  {
   "cell_type": "code",
   "execution_count": 1,
   "metadata": {},
   "outputs": [],
   "source": [
    "myInt1 = 12\n",
    "myInt2 = 23\n",
    "myInt3 = 34\n",
    "\n",
    "\n"
   ]
  },
  {
   "cell_type": "code",
   "execution_count": 17,
   "metadata": {},
   "outputs": [],
   "source": [
    "try:\n",
    "    outputFile = open(\"OutputFile.txt\", \"w\")\n",
    "    outputFile.write(str(myInt1) + \"\\n\")\n",
    "    outputFile.write(str(myInt2) + \"\\n\")\n",
    "    outputFile.write(str(myInt3) + \"\\n\")\n",
    "except ValueError as error:\n",
    "    print(\"ValueError:\", error)\n",
    "finally:\n",
    "    outputFile.close()"
   ]
  },
  {
   "cell_type": "code",
   "execution_count": 18,
   "metadata": {},
   "outputs": [
    {
     "name": "stdout",
     "output_type": "stream",
     "text": [
      "12\r\n",
      "23\r\n",
      "34\r\n"
     ]
    }
   ],
   "source": [
    "cat OutputFile.txt"
   ]
  },
  {
   "cell_type": "code",
   "execution_count": 21,
   "metadata": {},
   "outputs": [],
   "source": [
    "string1 = \"Hi!\"\n",
    "string2 = \"Hey!\"\n",
    "string3 = \"Hello!\"\n",
    "\n",
    "outputFile = open(\"./exercises/MyOutput\", \"w\")\n",
    "outputFile.write(string1)\n",
    "outputFile.write(string2)\n",
    "outputFile.write(string3)\n",
    "outputFile.close()"
   ]
  },
  {
   "cell_type": "code",
   "execution_count": 22,
   "metadata": {},
   "outputs": [
    {
     "name": "stdout",
     "output_type": "stream",
     "text": [
      "Hi!Hey!Hello!"
     ]
    }
   ],
   "source": [
    "cat exercises/MyOutput"
   ]
  },
  {
   "cell_type": "markdown",
   "metadata": {},
   "source": [
    "## Writing Lists"
   ]
  },
  {
   "cell_type": "code",
   "execution_count": 99,
   "metadata": {},
   "outputs": [],
   "source": [
    "outputFile = open(\"exercises/OutputFile\" , \"w\")\n",
    "\n"
   ]
  },
  {
   "cell_type": "code",
   "execution_count": 100,
   "metadata": {},
   "outputs": [],
   "source": [
    "myList = ['January','February','March','April','May','June',\\\n",
    "'July','August','September','October','November','December']\n",
    "\n",
    "string1 = \"Hi!\"\n",
    "string2 = \"Hey!\"\n",
    "string3 = \"Hello!\"\n",
    "\n",
    "outputFile.write(string1)\n",
    "outputFile.write(string2)\n",
    "outputFile.write(string3)\n",
    "\n",
    "for name in myList:\n",
    "    outputFile.write(name + \"\\n\")"
   ]
  },
  {
   "cell_type": "code",
   "execution_count": 101,
   "metadata": {},
   "outputs": [],
   "source": [
    "# doest work if the file is opened by another program, in this case python\n",
    "!cat exercises/OutputFile"
   ]
  },
  {
   "cell_type": "code",
   "execution_count": 102,
   "metadata": {},
   "outputs": [],
   "source": [
    "outputFile.writelines(myList)"
   ]
  },
  {
   "cell_type": "code",
   "execution_count": 97,
   "metadata": {},
   "outputs": [
    {
     "name": "stdout",
     "output_type": "stream",
     "text": [
      "JanuaryFebruaryMarchAprilMayJuneJulyAugustSeptemberOctoberNovemberDecember"
     ]
    }
   ],
   "source": [
    "cat exercises/OutputFile"
   ]
  },
  {
   "cell_type": "code",
   "execution_count": 103,
   "metadata": {},
   "outputs": [],
   "source": [
    "outputFile.writelines(\"\\n\".join(myList))"
   ]
  },
  {
   "cell_type": "code",
   "execution_count": 106,
   "metadata": {},
   "outputs": [
    {
     "name": "stdout",
     "output_type": "stream",
     "text": [
      "Hi!Hey!Hello!January\r\n",
      "February\r\n",
      "March\r\n",
      "April\r\n",
      "May\r\n",
      "June\r\n",
      "July\r\n",
      "August\r\n",
      "September\r\n",
      "October\r\n",
      "November\r\n",
      "December\r\n",
      "JanuaryFebruaryMarchAprilMayJuneJulyAugustSeptemberOctoberNovemberDecemberJanuary\r\n",
      "February\r\n",
      "March\r\n",
      "April\r\n",
      "May\r\n",
      "June\r\n",
      "July\r\n",
      "August\r\n",
      "September\r\n",
      "October\r\n",
      "November\r\n",
      "December"
     ]
    }
   ],
   "source": [
    "!cat exercises/OutputFile"
   ]
  },
  {
   "cell_type": "code",
   "execution_count": null,
   "metadata": {},
   "outputs": [],
   "source": []
  },
  {
   "cell_type": "code",
   "execution_count": 112,
   "metadata": {},
   "outputs": [],
   "source": [
    "outputFile.close()"
   ]
  },
  {
   "cell_type": "code",
   "execution_count": null,
   "metadata": {},
   "outputs": [],
   "source": []
  },
  {
   "cell_type": "markdown",
   "metadata": {},
   "source": [
    "## Writing on files using the **print** command!!!"
   ]
  },
  {
   "cell_type": "code",
   "execution_count": 141,
   "metadata": {},
   "outputs": [],
   "source": [
    "outputFile = open(\"exercises/OutputFile\" , \"a\")"
   ]
  },
  {
   "cell_type": "code",
   "execution_count": 142,
   "metadata": {},
   "outputs": [],
   "source": [
    "myList = ['January','February','March','April','May','June',\\\n",
    "'July','August','September','October','November','December']"
   ]
  },
  {
   "cell_type": "code",
   "execution_count": 143,
   "metadata": {},
   "outputs": [],
   "source": [
    "for name in myList:\n",
    "    print(name, end = \"\\n\",file = outputFile)\n",
    "\n",
    "outputFile.close()"
   ]
  },
  {
   "cell_type": "code",
   "execution_count": 144,
   "metadata": {},
   "outputs": [
    {
     "name": "stdout",
     "output_type": "stream",
     "text": [
      "January February March April May June July August September October November December January February March April May June July August September October November December January\r\n",
      "February\r\n",
      "March\r\n",
      "April\r\n",
      "May\r\n",
      "June\r\n",
      "July\r\n",
      "August\r\n",
      "September\r\n",
      "October\r\n",
      "November\r\n",
      "December\r\n"
     ]
    }
   ],
   "source": [
    "cat exercises/OutputFile"
   ]
  },
  {
   "cell_type": "markdown",
   "metadata": {},
   "source": [
    "## Reading files in Python"
   ]
  },
  {
   "cell_type": "markdown",
   "metadata": {},
   "source": [
    "Remember when loading from a file, the computer by default interprets everything as text. If we need to treat it as numbers or some other kind of data, we'll need to perform a type conversion."
   ]
  },
  {
   "cell_type": "code",
   "execution_count": 181,
   "metadata": {},
   "outputs": [],
   "source": [
    "inputFile = open(\"exercises/OutputFile\", \"r\")"
   ]
  },
  {
   "cell_type": "code",
   "execution_count": 170,
   "metadata": {},
   "outputs": [
    {
     "name": "stdout",
     "output_type": "stream",
     "text": [
      "January February March April May June July August September October November December January February March April May June July August September October November December January\n",
      "\n",
      "February\n",
      "\n"
     ]
    }
   ],
   "source": [
    "print(inputFile.readline())\n",
    "print(inputFile.readline())"
   ]
  },
  {
   "cell_type": "code",
   "execution_count": 171,
   "metadata": {},
   "outputs": [
    {
     "name": "stdout",
     "output_type": "stream",
     "text": [
      "March\n",
      "April\n",
      "May\n"
     ]
    }
   ],
   "source": [
    "# Strip/ remove the \\n \\t in the beggining and the end of the line\n",
    "print(inputFile.readline().strip())\n",
    "print(inputFile.readline().strip())\n",
    "print(inputFile.readline().strip())"
   ]
  },
  {
   "cell_type": "code",
   "execution_count": 172,
   "metadata": {},
   "outputs": [
    {
     "name": "stdout",
     "output_type": "stream",
     "text": [
      "June\n",
      "\n",
      "July\n",
      "\n",
      "August\n",
      "\n"
     ]
    }
   ],
   "source": [
    "print(inputFile.readline())\n",
    "print(inputFile.readline())\n",
    "print(inputFile.readline())"
   ]
  },
  {
   "cell_type": "code",
   "execution_count": 182,
   "metadata": {},
   "outputs": [
    {
     "name": "stdout",
     "output_type": "stream",
     "text": [
      "['January February March April May June July August September October November December January February March April May June July August September October November December January\\n', 'February\\n', 'March\\n', 'April\\n', 'May\\n', 'June\\n', 'July\\n', 'August\\n', 'September\\n', 'October\\n', 'November\\n', 'December\\n']\n"
     ]
    }
   ],
   "source": [
    "print(inputFile.readlines())"
   ]
  },
  {
   "cell_type": "code",
   "execution_count": 183,
   "metadata": {},
   "outputs": [],
   "source": [
    "inputFile.close()"
   ]
  },
  {
   "cell_type": "code",
   "execution_count": null,
   "metadata": {},
   "outputs": [],
   "source": []
  },
  {
   "cell_type": "code",
   "execution_count": 184,
   "metadata": {},
   "outputs": [
    {
     "name": "stdout",
     "output_type": "stream",
     "text": [
      "12 23 34\n"
     ]
    }
   ],
   "source": [
    "inputFile = open(\"exercises/MyOutput\", \"r\")\n",
    "\n",
    "myInt1 = int(inputFile.readline())\n",
    "myInt2 = int(inputFile.readline())\n",
    "myInt3 = int(inputFile.readline())\n",
    "\n",
    "inputFile.close()\n",
    "print(myInt1, myInt2, myInt3)"
   ]
  },
  {
   "cell_type": "code",
   "execution_count": null,
   "metadata": {},
   "outputs": [],
   "source": []
  },
  {
   "cell_type": "code",
   "execution_count": null,
   "metadata": {},
   "outputs": [],
   "source": []
  },
  {
   "cell_type": "code",
   "execution_count": null,
   "metadata": {},
   "outputs": [],
   "source": []
  },
  {
   "cell_type": "code",
   "execution_count": null,
   "metadata": {},
   "outputs": [],
   "source": []
  },
  {
   "cell_type": "code",
   "execution_count": null,
   "metadata": {},
   "outputs": [],
   "source": []
  },
  {
   "cell_type": "code",
   "execution_count": null,
   "metadata": {},
   "outputs": [],
   "source": []
  },
  {
   "cell_type": "code",
   "execution_count": null,
   "metadata": {},
   "outputs": [],
   "source": []
  },
  {
   "cell_type": "code",
   "execution_count": null,
   "metadata": {},
   "outputs": [],
   "source": []
  },
  {
   "cell_type": "code",
   "execution_count": null,
   "metadata": {},
   "outputs": [],
   "source": []
  }
 ],
 "metadata": {
  "kernelspec": {
   "display_name": "Python 3",
   "language": "python",
   "name": "python3"
  },
  "language_info": {
   "codemirror_mode": {
    "name": "ipython",
    "version": 3
   },
   "file_extension": ".py",
   "mimetype": "text/x-python",
   "name": "python",
   "nbconvert_exporter": "python",
   "pygments_lexer": "ipython3",
   "version": "3.6.9"
  }
 },
 "nbformat": 4,
 "nbformat_minor": 4
}
