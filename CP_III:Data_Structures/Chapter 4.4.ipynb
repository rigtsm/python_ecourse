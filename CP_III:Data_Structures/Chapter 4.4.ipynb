{
 "cells": [
  {
   "cell_type": "markdown",
   "metadata": {},
   "source": [
    "# [File Input and Output](https://courses.edx.org/courses/course-v1:GTx+CS1301xIII+3T2019/courseware/7892fb1261074c2a8aaa774935f5f1bb/724c733ee99c4d0c830f6d645f473053/?child=first)"
   ]
  },
  {
   "cell_type": "markdown",
   "metadata": {},
   "source": [
    "## Opening and Closing files"
   ]
  },
  {
   "cell_type": "markdown",
   "metadata": {},
   "source": [
    "When a program has opened a file, other programs are not allowd to modifiy it. This is why we need to open and after close the file when we finished using it."
   ]
  },
  {
   "cell_type": "code",
   "execution_count": 1,
   "metadata": {},
   "outputs": [],
   "source": [
    "myInt1 = 12\n",
    "myInt2 = 23\n",
    "myInt3 = 34\n",
    "\n",
    "\n"
   ]
  },
  {
   "cell_type": "code",
   "execution_count": 17,
   "metadata": {},
   "outputs": [],
   "source": [
    "try:\n",
    "    outputFile = open(\"OutputFile.txt\", \"w\")\n",
    "    outputFile.write(str(myInt1) + \"\\n\")\n",
    "    outputFile.write(str(myInt2) + \"\\n\")\n",
    "    outputFile.write(str(myInt3) + \"\\n\")\n",
    "except ValueError as error:\n",
    "    print(\"ValueError:\", error)\n",
    "finally:\n",
    "    outputFile.close()"
   ]
  },
  {
   "cell_type": "code",
   "execution_count": 18,
   "metadata": {},
   "outputs": [
    {
     "name": "stdout",
     "output_type": "stream",
     "text": [
      "12\r\n",
      "23\r\n",
      "34\r\n"
     ]
    }
   ],
   "source": [
    "cat OutputFile.txt"
   ]
  },
  {
   "cell_type": "code",
   "execution_count": 21,
   "metadata": {},
   "outputs": [],
   "source": [
    "string1 = \"Hi!\"\n",
    "string2 = \"Hey!\"\n",
    "string3 = \"Hello!\"\n",
    "\n",
    "outputFile = open(\"./exercises/MyOutput\", \"w\")\n",
    "outputFile.write(string1)\n",
    "outputFile.write(string2)\n",
    "outputFile.write(string3)\n",
    "outputFile.close()"
   ]
  },
  {
   "cell_type": "code",
   "execution_count": null,
   "metadata": {},
   "outputs": [],
   "source": []
  },
  {
   "cell_type": "code",
   "execution_count": null,
   "metadata": {},
   "outputs": [],
   "source": []
  },
  {
   "cell_type": "code",
   "execution_count": null,
   "metadata": {},
   "outputs": [],
   "source": []
  },
  {
   "cell_type": "code",
   "execution_count": null,
   "metadata": {},
   "outputs": [],
   "source": []
  },
  {
   "cell_type": "code",
   "execution_count": null,
   "metadata": {},
   "outputs": [],
   "source": []
  },
  {
   "cell_type": "code",
   "execution_count": null,
   "metadata": {},
   "outputs": [],
   "source": []
  },
  {
   "cell_type": "code",
   "execution_count": null,
   "metadata": {},
   "outputs": [],
   "source": []
  },
  {
   "cell_type": "code",
   "execution_count": null,
   "metadata": {},
   "outputs": [],
   "source": []
  },
  {
   "cell_type": "code",
   "execution_count": null,
   "metadata": {},
   "outputs": [],
   "source": []
  }
 ],
 "metadata": {
  "kernelspec": {
   "display_name": "Python 3",
   "language": "python",
   "name": "python3"
  },
  "language_info": {
   "codemirror_mode": {
    "name": "ipython",
    "version": 3
   },
   "file_extension": ".py",
   "mimetype": "text/x-python",
   "name": "python",
   "nbconvert_exporter": "python",
   "pygments_lexer": "ipython3",
   "version": "3.6.9"
  }
 },
 "nbformat": 4,
 "nbformat_minor": 4
}
