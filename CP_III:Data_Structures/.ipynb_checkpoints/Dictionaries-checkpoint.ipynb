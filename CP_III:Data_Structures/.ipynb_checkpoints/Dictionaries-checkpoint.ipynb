{
 "cells": [
  {
   "cell_type": "markdown",
   "metadata": {},
   "source": [
    "#  Chapter 4.5: [Dictionaries](https://courses.edx.org/courses/course-v1:GTx+CS1301xIII+3T2019/courseware/36d4bb4a05f842efad344898febc9330/ca4b795b8d064e13b80bcfcac3743a13/?child=first)"
   ]
  },
  {
   "cell_type": "markdown",
   "metadata": {},
   "source": [
    "Documentation / [Book]()"
   ]
  },
  {
   "cell_type": "markdown",
   "metadata": {},
   "source": [
    "**Dictionaries**: A data structure comprised of **key-value pairs**, where a **key** is entered into the dictionary to get out a **value**. Similar to or synonymous with Maps, Associative Arrays, HashMaps, and Hashtable.\n",
    "\n",
    "**Dictionary Key**: A value then, when passed into a dictionary, returns a corresponding value, like a word and its definition. Similar to a variable. Keys have to be **Immutable data types**: strings, tuplese, not lists because they are mutable.\n",
    "\n",
    "**Dictionary Value**: A value returned in response to a key in a dictionary. Similar to a value of a variable outside a dictionary. \n",
    "\n",
    "\n",
    "\n",
    "Interestingly, in Python, we can also use dictionaries basically like **lists**: we can access the values directly, just like a list of values.\n",
    "\n",
    "The major difference is that in Python, **dictionaries aren't guaranteed to preserve order**. In a list, the first item is guaranteed to be the first item unless it's changed; in a dictionary, the first key-value pair added might not be the first one accessed.\n",
    "\n",
    "Think of a dictionary kind of like a bag: you can put a bunch of things in a bag, but you're not guaranteed to pull them out in the same order. Everything you put in is guaranteed to be there, though.\n",
    "\n",
    "Dictionary == Map == HashTable == HashMap == Associative-Array"
   ]
  },
  {
   "cell_type": "code",
   "execution_count": 6,
   "metadata": {},
   "outputs": [
    {
     "name": "stdout",
     "output_type": "stream",
     "text": [
      "{'sprockets': 5, 'widgets': 11, 'cogs': 3, 'gizmos': 15}\n"
     ]
    }
   ],
   "source": [
    "#myDictionary = {\"Cinderella\":\"blue\", \"Belle\":\"yellow\", \"Mulan\":\"red\", \"Tiana\":\"green\", \"Rapunzel\":\"purple\"}\n",
    "myDictionary = {\"sprockets\":5\n",
    "                ,\"widgets\":11\n",
    "                ,\"cogs\":3\n",
    "                ,\"gizmos\":15\n",
    "               }\n",
    "print(myDictionary)"
   ]
  },
  {
   "cell_type": "code",
   "execution_count": 7,
   "metadata": {},
   "outputs": [
    {
     "name": "stdout",
     "output_type": "stream",
     "text": [
      "{'sprockets': 6, 'widgets': 11, 'cogs': 3, 'gizmos': 15}\n"
     ]
    }
   ],
   "source": [
    "myDictionary[\"sprockets\"] += 1\n",
    "print(myDictionary)"
   ]
  },
  {
   "cell_type": "code",
   "execution_count": null,
   "metadata": {},
   "outputs": [],
   "source": []
  },
  {
   "cell_type": "code",
   "execution_count": null,
   "metadata": {},
   "outputs": [],
   "source": []
  },
  {
   "cell_type": "code",
   "execution_count": null,
   "metadata": {},
   "outputs": [],
   "source": []
  },
  {
   "cell_type": "code",
   "execution_count": null,
   "metadata": {},
   "outputs": [],
   "source": []
  },
  {
   "cell_type": "code",
   "execution_count": null,
   "metadata": {},
   "outputs": [],
   "source": []
  },
  {
   "cell_type": "code",
   "execution_count": null,
   "metadata": {},
   "outputs": [],
   "source": []
  },
  {
   "cell_type": "code",
   "execution_count": null,
   "metadata": {},
   "outputs": [],
   "source": []
  },
  {
   "cell_type": "code",
   "execution_count": null,
   "metadata": {},
   "outputs": [],
   "source": []
  },
  {
   "cell_type": "code",
   "execution_count": null,
   "metadata": {},
   "outputs": [],
   "source": []
  },
  {
   "cell_type": "code",
   "execution_count": null,
   "metadata": {},
   "outputs": [],
   "source": []
  },
  {
   "cell_type": "code",
   "execution_count": null,
   "metadata": {},
   "outputs": [],
   "source": []
  },
  {
   "cell_type": "code",
   "execution_count": null,
   "metadata": {},
   "outputs": [],
   "source": []
  },
  {
   "cell_type": "code",
   "execution_count": null,
   "metadata": {},
   "outputs": [],
   "source": []
  },
  {
   "cell_type": "code",
   "execution_count": null,
   "metadata": {},
   "outputs": [],
   "source": []
  },
  {
   "cell_type": "code",
   "execution_count": null,
   "metadata": {},
   "outputs": [],
   "source": []
  }
 ],
 "metadata": {
  "kernelspec": {
   "display_name": "Python 3",
   "language": "python",
   "name": "python3"
  },
  "language_info": {
   "codemirror_mode": {
    "name": "ipython",
    "version": 3
   },
   "file_extension": ".py",
   "mimetype": "text/x-python",
   "name": "python",
   "nbconvert_exporter": "python",
   "pygments_lexer": "ipython3",
   "version": "3.6.9"
  }
 },
 "nbformat": 4,
 "nbformat_minor": 4
}
