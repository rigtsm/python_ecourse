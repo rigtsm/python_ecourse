{
 "cells": [
  {
   "cell_type": "markdown",
   "metadata": {},
   "source": [
    "#  Chapter 4.5: [Dictionaries](https://courses.edx.org/courses/course-v1:GTx+CS1301xIII+3T2019/courseware/36d4bb4a05f842efad344898febc9330/ca4b795b8d064e13b80bcfcac3743a13/?child=first)"
   ]
  },
  {
   "cell_type": "markdown",
   "metadata": {},
   "source": [
    "Documentation / [Book]()"
   ]
  },
  {
   "cell_type": "markdown",
   "metadata": {},
   "source": [
    "**Dictionaries**: A data structure comprised of **key-value pairs**, where a **key** is entered into the dictionary to get out a **value**. Similar to or synonymous with Maps, Associative Arrays, HashMaps, and Hashtable.\n",
    "\n",
    "**Dictionary Key**: A value then, when passed into a dictionary, returns a corresponding value, like a word and its definition. Similar to a variable. Keys have to be **Immutable data types**: strings, tuplese, not lists because they are mutable. Kyes are also unicque because if there are more copies of the same key,then the dictionary would not know which value to return.\n",
    "\n",
    "**Dictionary Value**: A value returned in response to a key in a dictionary. Similar to a value of a variable outside a dictionary. \n",
    "\n",
    "\n",
    "\n",
    "Interestingly, in Python, we can also use dictionaries basically like **lists**: we can access the values directly, just like a list of values.\n",
    "\n",
    "The major difference is that in Python, **dictionaries aren't guaranteed to preserve order**. In a list, the first item is guaranteed to be the first item unless it's changed; in a dictionary, the first key-value pair added might not be the first one accessed.\n",
    "\n",
    "Think of a dictionary kind of like a bag: you can put a bunch of things in a bag, but you're not guaranteed to pull them out in the same order. Everything you put in is guaranteed to be there, though.\n",
    "\n",
    "Dictionary == Map == HashTable == HashMap == Associative-Array"
   ]
  },
  {
   "cell_type": "code",
   "execution_count": 6,
   "metadata": {},
   "outputs": [
    {
     "name": "stdout",
     "output_type": "stream",
     "text": [
      "{'sprockets': 5, 'widgets': 11, 'cogs': 3, 'gizmos': 15}\n"
     ]
    }
   ],
   "source": [
    "#myDictionary = {\"Cinderella\":\"blue\", \"Belle\":\"yellow\", \"Mulan\":\"red\", \"Tiana\":\"green\", \"Rapunzel\":\"purple\"}\n",
    "myDictionary = {\"sprockets\":5\n",
    "                ,\"widgets\":11\n",
    "                ,\"cogs\":3\n",
    "                ,\"gizmos\":15\n",
    "               }\n",
    "print(myDictionary)"
   ]
  },
  {
   "cell_type": "code",
   "execution_count": 7,
   "metadata": {},
   "outputs": [
    {
     "name": "stdout",
     "output_type": "stream",
     "text": [
      "{'sprockets': 6, 'widgets': 11, 'cogs': 3, 'gizmos': 15}\n"
     ]
    }
   ],
   "source": [
    "myDictionary[\"sprockets\"] += 1\n",
    "print(myDictionary)"
   ]
  },
  {
   "cell_type": "markdown",
   "metadata": {},
   "source": [
    "## Adding to and Removing from a Dictionary "
   ]
  },
  {
   "cell_type": "code",
   "execution_count": 8,
   "metadata": {},
   "outputs": [
    {
     "name": "stdout",
     "output_type": "stream",
     "text": [
      "{'sprockets': 5, 'widgets': 11, 'cogs': 3, 'gizmos': 15}\n"
     ]
    }
   ],
   "source": [
    "myDictionary = {\"sprockets\":5\n",
    "                ,\"widgets\":11\n",
    "                ,\"cogs\":3\n",
    "                ,\"gizmos\":15\n",
    "               }\n",
    "print(myDictionary)"
   ]
  },
  {
   "cell_type": "code",
   "execution_count": 17,
   "metadata": {},
   "outputs": [
    {
     "name": "stdout",
     "output_type": "stream",
     "text": [
      "{'sprockets': 5, 'widgets': 11, 'cogs': 3, 'gizmos': 15, 'gadgets': 1}\n"
     ]
    }
   ],
   "source": [
    "myDictionary[\"gadgets\"] = 1\n",
    "print(myDictionary)"
   ]
  },
  {
   "cell_type": "code",
   "execution_count": 18,
   "metadata": {},
   "outputs": [
    {
     "name": "stdout",
     "output_type": "stream",
     "text": [
      "{'sprockets': 5, 'widgets': 11, 'cogs': 3, 'gizmos': 15}\n"
     ]
    }
   ],
   "source": [
    "# Deleting from Dictionaries\n",
    "del myDictionary[\"gadgets\"]\n",
    "print(myDictionary)"
   ]
  },
  {
   "cell_type": "code",
   "execution_count": 20,
   "metadata": {},
   "outputs": [
    {
     "name": "stdout",
     "output_type": "stream",
     "text": [
      "gadgets is already in myDictionary\n",
      "{'sprockets': 5, 'widgets': 11, 'cogs': 3, 'gizmos': 15, 'gadgets': 55, 'gadgets2': 55}\n"
     ]
    }
   ],
   "source": [
    "if \"gadgets\" in myDictionary:\n",
    "    print(\"gadgets is already in myDictionary\")\n",
    "    myDictionary[\"gadgets2\"] = 55\n",
    "else:\n",
    "     myDictionary[\"gadgets\"] = 55\n",
    "\n",
    "print(myDictionary)"
   ]
  },
  {
   "cell_type": "markdown",
   "metadata": {},
   "source": [
    "## Traversing Dictionaries"
   ]
  },
  {
   "cell_type": "code",
   "execution_count": null,
   "metadata": {},
   "outputs": [],
   "source": [
    "myDictionary = {\"sprockets\":5\n",
    "                ,\"widgets\":11\n",
    "                ,\"cogs\":3\n",
    "                ,\"gizmos\":15\n",
    "               }\n",
    "print(myDictionary)"
   ]
  },
  {
   "cell_type": "code",
   "execution_count": 23,
   "metadata": {},
   "outputs": [
    {
     "name": "stdout",
     "output_type": "stream",
     "text": [
      "A value less then 5 found: 3\n"
     ]
    }
   ],
   "source": [
    "# Iterate over the values itself\n",
    "for value in myDictionary.values():\n",
    "    if value < 5:\n",
    "        print(\"A value less then 5 found:\", value)"
   ]
  },
  {
   "cell_type": "code",
   "execution_count": 24,
   "metadata": {},
   "outputs": [
    {
     "name": "stdout",
     "output_type": "stream",
     "text": [
      "A value less then 5 found: 3\n"
     ]
    }
   ],
   "source": [
    "# Iterate over the key\n",
    "for key in myDictionary.keys():\n",
    "    value = myDictionary[key]\n",
    "    if value < 5:\n",
    "        print(\"A value less then 5 found:\", value)"
   ]
  },
  {
   "cell_type": "code",
   "execution_count": 25,
   "metadata": {},
   "outputs": [
    {
     "name": "stdout",
     "output_type": "stream",
     "text": [
      "cogs is less then 5 3\n"
     ]
    }
   ],
   "source": [
    "# Iterate over the tuple (key,value)\n",
    "for (key, value) in myDictionary.items():\n",
    "    if value < 5:\n",
    "        print(key, \"is less then 5\", value)"
   ]
  },
  {
   "cell_type": "code",
   "execution_count": 26,
   "metadata": {},
   "outputs": [],
   "source": [
    "def orderMore(inventory, goal):\n",
    "    result = []\n",
    "    for (key,value) in inventory.items():\n",
    "        if value < goal:\n",
    "            result.append((key,value))\n",
    "    return result\n",
    "    "
   ]
  },
  {
   "cell_type": "code",
   "execution_count": 32,
   "metadata": {},
   "outputs": [
    {
     "name": "stdout",
     "output_type": "stream",
     "text": [
      "[('sprockets', 5), ('cogs', 3)]\n",
      "cogs\n"
     ]
    }
   ],
   "source": [
    "order = orderMore(myDictionary, 7)\n",
    "print(order)\n",
    "print(order[1][0])"
   ]
  },
  {
   "cell_type": "markdown",
   "metadata": {},
   "source": [
    "## Word Count in python"
   ]
  },
  {
   "cell_type": "markdown",
   "metadata": {},
   "source": [
    "Manipulate the file:\n",
    "- Eliminate . , ! ' \"\n",
    "- convert to lowercase\n",
    "- split by spaces\n",
    "- generate a list of individual words\n",
    "- insert every element of the list in a dictionary where (key=word,value=#of_occurences):\n",
    "    - if key/word not in dictinary => value=1\n",
    "    - else => value += 1\n",
    "    "
   ]
  },
  {
   "cell_type": "code",
   "execution_count": 54,
   "metadata": {},
   "outputs": [
    {
     "name": "stdout",
     "output_type": "stream",
     "text": [
      "['imagine', 'youre', 'writing', 'a', 'program', 'that', 'will', 'let', 'a', 'little', 'concession', 'stand', 'easily', 'keep', 'track', 'of', 'whateach', 'customer', 'owes', 'to', 'do', 'that', 'you', 'write', 'a', 'function', 'that', 'takes', 'three', 'inputsa', 'dictionary', 'of', 'customers', 'strings', 'the', 'keys', 'and', 'what', 'they', 'owe', 'floats', 'the', 'valuesa', 'persons', 'name', 'a', 'string', 'and', 'an', 'amount', 'of', 'money', 'owed', 'when', 'the', 'customer', 'spends', 'moneythat', 'amount', 'is', 'subtracted', 'from', 'their', 'value', 'when', 'they', 'pay', 'money', 'that', 'amount', 'is', 'added']\n"
     ]
    }
   ],
   "source": [
    "myString = \"Imagine you're writing a program that will let a little concession stand easily keep track of whateach customer owes. To do that, you write a function that takes three inputs:a dictionary of customers (strings, the keys) and what they owe (floats, the values),a person's name (a string), and an amount of money owed. When the customer spends money,that amount is subtracted from their value; when they pay money, that amount is added.\"\n",
    "\n",
    "\n",
    "myString = myString.replace(\".\",\"\")\n",
    "myString = myString.replace(\"!\",\"\")\n",
    "myString = myString.replace(\",\",\"\")\n",
    "myString = myString.replace(\";\",\"\")\n",
    "myString = myString.replace(\"'\",\"\")\n",
    "myString = myString.replace(\"(\",\"\")\n",
    "myString = myString.replace(\")\",\"\")\n",
    "myString = myString.replace(\":\",\"\")\n",
    "myString = myString.lower()\n",
    "myString = myString.split() # split by spaces\n",
    "\n",
    "print(myString)\n"
   ]
  },
  {
   "cell_type": "code",
   "execution_count": 55,
   "metadata": {},
   "outputs": [
    {
     "name": "stdout",
     "output_type": "stream",
     "text": [
      "{'imagine': 1, 'youre': 1, 'writing': 1, 'a': 4, 'program': 1, 'that': 4, 'will': 1, 'let': 1, 'little': 1, 'concession': 1, 'stand': 1, 'easily': 1, 'keep': 1, 'track': 1, 'of': 3, 'whateach': 1, 'customer': 2, 'owes': 1, 'to': 1, 'do': 1, 'you': 1, 'write': 1, 'function': 1, 'takes': 1, 'three': 1, 'inputsa': 1, 'dictionary': 1, 'customers': 1, 'strings': 1, 'the': 3, 'keys': 1, 'and': 2, 'what': 1, 'they': 2, 'owe': 1, 'floats': 1, 'valuesa': 1, 'persons': 1, 'name': 1, 'string': 1, 'an': 1, 'amount': 3, 'money': 2, 'owed': 1, 'when': 2, 'spends': 1, 'moneythat': 1, 'is': 2, 'subtracted': 1, 'from': 1, 'their': 1, 'value': 1, 'pay': 1, 'added': 1}\n"
     ]
    }
   ],
   "source": [
    "wordDictionary = {}\n",
    "for word in myString:\n",
    "    if word in wordDictionary:\n",
    "        wordDictionary[word] += 1\n",
    "    else:\n",
    "        wordDictionary[word] = 1\n",
    "\n",
    "print(wordDictionary)"
   ]
  },
  {
   "cell_type": "code",
   "execution_count": null,
   "metadata": {},
   "outputs": [],
   "source": [
    "## Table Distribution, which table are sitting and who are the others in the same table"
   ]
  },
  {
   "cell_type": "code",
   "execution_count": 57,
   "metadata": {},
   "outputs": [],
   "source": [
    "seatingChart = {'Jon': 1, 'Bill':2, 'Maria':3, 'Jenny':4\n",
    "               , 'Jack':1, \"Vera\":2, \"Patrizio\":3, \"Caprice\":3,\"Stefano\":4\n",
    "               ,\"Donna\":4,\"Bellance\":2,\"Aleksandra\":3,\"Massimo\":1,\"Antonia\":4,\"Donatello\":2,\"Montay\":3,\"Pia\":1}\n"
   ]
  },
  {
   "cell_type": "code",
   "execution_count": 58,
   "metadata": {},
   "outputs": [
    {
     "name": "stdout",
     "output_type": "stream",
     "text": [
      "Jonis seated at table #1\n",
      "Billis seated at table #2\n",
      "Mariais seated at table #3\n",
      "Jennyis seated at table #4\n",
      "Jackis seated at table #1\n",
      "Verais seated at table #2\n",
      "Patriziois seated at table #3\n",
      "Capriceis seated at table #3\n",
      "Stefanois seated at table #4\n",
      "Donnais seated at table #4\n",
      "Bellanceis seated at table #2\n",
      "Aleksandrais seated at table #3\n",
      "Massimois seated at table #1\n",
      "Antoniais seated at table #4\n",
      "Donatellois seated at table #2\n",
      "Montayis seated at table #3\n",
      "Piais seated at table #1\n"
     ]
    }
   ],
   "source": [
    "# List the guest and the table they are seating\n",
    "for (name, table) in seatingChart.items():\n",
    "    print(name, \"is seated at table #\", table, sep= \"\")\n"
   ]
  },
  {
   "cell_type": "code",
   "execution_count": 67,
   "metadata": {},
   "outputs": [
    {
     "name": "stdout",
     "output_type": "stream",
     "text": [
      "\n",
      "The guests at table #1 are: Jon Jack Massimo Pia \n",
      "The guests at table #2 are: Bill Vera Bellance Donatello \n",
      "The guests at table #3 are: Maria Patrizio Caprice Aleksandra Montay \n",
      "The guests at table #4 are: Jenny Stefano Donna Antonia "
     ]
    }
   ],
   "source": [
    "# List the guest at the same table\n",
    "for i in range(1,5):\n",
    "    print()\n",
    "    print(\"The guests at table #\", i , \" are: \", sep = \"\" , end= \"\")\n",
    "    for (name,table) in seatingChart.items():\n",
    "        if table == i:\n",
    "            print(name, end= \" \")"
   ]
  },
  {
   "cell_type": "code",
   "execution_count": null,
   "metadata": {},
   "outputs": [],
   "source": []
  },
  {
   "cell_type": "code",
   "execution_count": null,
   "metadata": {},
   "outputs": [],
   "source": []
  }
 ],
 "metadata": {
  "kernelspec": {
   "display_name": "Python 3",
   "language": "python",
   "name": "python3"
  },
  "language_info": {
   "codemirror_mode": {
    "name": "ipython",
    "version": 3
   },
   "file_extension": ".py",
   "mimetype": "text/x-python",
   "name": "python",
   "nbconvert_exporter": "python",
   "pygments_lexer": "ipython3",
   "version": "3.6.9"
  }
 },
 "nbformat": 4,
 "nbformat_minor": 4
}
