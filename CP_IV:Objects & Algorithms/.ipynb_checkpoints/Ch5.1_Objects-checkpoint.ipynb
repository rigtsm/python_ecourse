{
 "cells": [
  {
   "cell_type": "markdown",
   "metadata": {},
   "source": [
    "## Introduction to What Are [Objects](https://courses.edx.org/courses/course-v1:GTx+CS1301xIV+3T2019/courseware/5af302638cdb4af0913f91400fa754b5/65fec1b0102b461d8da5193b806aae6b/?activate_block_id=block-v1%3AGTx%2BCS1301xIV%2B3T2019%2Btype%40sequential%2Bblock%4065fec1b0102b461d8da5193b806aae6b)"
   ]
  },
  {
   "cell_type": "markdown",
   "metadata": {},
   "source": [
    "[Book](https://mhlearnsmart.com/flow/smartbook.html?assignmentId=2119676&externalProductId=A9B0151903&isEbookAccess=1&lang=en-US&lsti=1&newals=1&oauth_consumer_key=com.mhe.lst.learnerapps&oauth_nonce=a0130145a7b068d9929d330c51597eca&oauth_signature=XoD181zasfG6AuNPFMVNYRMRuzc%3D&oauth_signature_method=HMAC-SHA1&oauth_timestamp=1585603231&oauth_version=1.0&paamskin=1&progressGradeId=48f9fd58-72cc-11ea-9a9a-22000a21c52b&progressReportUrl=https%3A%2F%2Fmhlearnsmart.com%2Fservices%2Flti%2Fprogress&sectionId=2318995&selectionRefId=293&userId=19848911)"
   ]
  },
  {
   "cell_type": "markdown",
   "metadata": {},
   "source": [
    "**Object-oriented programming**: A programming paradigm where programmers define custom data types that have custom methods embedded within them.\n",
    "\n",
    "**Object**: An object is a custom **data structure** that organizes and encapsulates variables and methods into a single data type. It is used near-interchangeably with “instance.”\n",
    "\n",
    "**Class**: A custom data type comprised of multiple variables and/or methods. Instances or objects are created based on the template provided by the class.\n",
    "\n",
    "**Instance**: A single set of values of a particular class. Classes may be comprised of multiple variables; an instance is a set of values for these variables. The term “instance” is often used interchangeably with the term “object”.\n",
    "\n",
    "**Encapsulation**: The ability to combine variables and methods into class definitions in object-oriented programming. It helps avoid modification or misuse of data by other functions or programs.\n",
    "\n",
    "**Constructor**: A common type of method in writing classes that specifies some code to run whenever a new instance of the class is created. The constructor often has parameters that provide values to initialize the variables defined by the class.\n",
    "\n",
    "**_ _ method _ _** : There is no way to bindingly mark a variable or method in a Python class as **private**.\n",
    "Meaning that other code can always access variables directly. By convention, we often perceive variables or methods that we don't want other classes or functions to access with a double underscore. So proceeding in it with a double underscore as a way of saying don't try to run this method directly. **You can, but you shouldn't.**\n",
    "\n",
    "**Abstraction**: A principle of object-oriented programming that states that only essential information should be made visible to the outside program.\n",
    "\n",
    "**Polymorphism**: The principle that a method call can behave differently depending on the arguments and object with which it is called.\n",
    "\n",
    "**Inheritance**: A principle of object-oriented programming where classes can be created that are “subclasses” of other classes, inheriting all the\n",
    "variables and methods from the other class while supplying new variables, methods, or behaviors of these own.\n"
   ]
  },
  {
   "cell_type": "markdown",
   "metadata": {},
   "source": [
    "## Defining classes\n",
    "When a new instance of a class is created, then the first think is executed is the methed **__init__(self)**.\n",
    "- A function inside a class is called a method\n",
    "- when e new instance is created, the first method called is the **__init(self)__**\n",
    "- **self.variable** where **self** tells python to define the **variable** and any other code inside the class will be able to see this **variables** as long it accessed them with **self**"
   ]
  },
  {
   "cell_type": "code",
   "execution_count": 11,
   "metadata": {},
   "outputs": [],
   "source": [
    "# self tell python \n",
    "class Name:\n",
    "    def __init__(self):\n",
    "        self.firstname = \"\"\n",
    "        self.lastname = \"\"\n",
    "\n",
    "class Person:\n",
    "    def __init__(self):\n",
    "        self.name = Name()\n",
    "        self.eyecolor = \"\"\n",
    "        self.age = -1\n"
   ]
  },
  {
   "cell_type": "code",
   "execution_count": null,
   "metadata": {},
   "outputs": [],
   "source": []
  },
  {
   "cell_type": "code",
   "execution_count": 14,
   "metadata": {},
   "outputs": [
    {
     "name": "stdout",
     "output_type": "stream",
     "text": [
      "-1\n",
      "15\n",
      "Marco\n"
     ]
    }
   ],
   "source": [
    "myPerson = Person()\n",
    "print(myPerson.age)\n",
    "myPerson.age = 15\n",
    "print(myPerson.age)\n",
    "myPerson.name.firstname = \"Marco\"\n",
    "print(myPerson.name.firstname)"
   ]
  },
  {
   "cell_type": "markdown",
   "metadata": {},
   "source": [
    "## Objects vs. Dictionaries "
   ]
  },
  {
   "cell_type": "code",
   "execution_count": 21,
   "metadata": {},
   "outputs": [],
   "source": [
    "class Name:\n",
    "    def __init__(self):\n",
    "        self.firstname = \"no_name\"\n",
    "        self.lastname = \"no_last\"\n",
    "        \n",
    "myNameDict = {\"firstname\" : \"no_anme\", \"lastname\":\"no_name\"}\n",
    "\n",
    "myNameInst = Name()\n",
    "myNameInst.firstname = \"David\"\n",
    "myNameDict[\"firstname\"] = \"David\""
   ]
  },
  {
   "cell_type": "code",
   "execution_count": 22,
   "metadata": {},
   "outputs": [
    {
     "name": "stdout",
     "output_type": "stream",
     "text": [
      "David\n",
      "David\n"
     ]
    }
   ],
   "source": [
    "print(myNameDict[\"firstname\"])\n",
    "print(myNameInst.firstname)"
   ]
  },
  {
   "cell_type": "markdown",
   "metadata": {},
   "source": [
    "## Encapsulating Methods in Classes "
   ]
  },
  {
   "cell_type": "code",
   "execution_count": 27,
   "metadata": {},
   "outputs": [
    {
     "name": "stdout",
     "output_type": "stream",
     "text": [
      "Emi\n",
      "Ser\n",
      "-1\n"
     ]
    }
   ],
   "source": [
    "class Person:\n",
    "    def __init__(self, firstname, lastname):\n",
    "        self.firstname = firstname\n",
    "        self.lastname = lastname\n",
    "        self.eyecolor = \"-\"\n",
    "        self.age = -1\n",
    "\n",
    "myPerson = Person(\"Emi\", \"Ser\")\n",
    "print(myPerson.firstname)\n",
    "print(myPerson.lastname)\n",
    "print(myPerson.age)"
   ]
  },
  {
   "cell_type": "code",
   "execution_count": 30,
   "metadata": {},
   "outputs": [
    {
     "name": "stdout",
     "output_type": "stream",
     "text": [
      "--\n",
      "--\n",
      "-1\n"
     ]
    }
   ],
   "source": [
    "class Person:\n",
    "    # setting the variables to default values\n",
    "    def __init__(self, firstname = \"--\", lastname = \"--\"):\n",
    "        self.firstname = firstname\n",
    "        self.lastname = lastname\n",
    "        self.eyecolor = \"-\"\n",
    "        self.age = -1\n",
    "\n",
    "myPerson = Person()\n",
    "print(myPerson.firstname)\n",
    "print(myPerson.lastname)\n",
    "print(myPerson.age)"
   ]
  },
  {
   "cell_type": "code",
   "execution_count": 50,
   "metadata": {},
   "outputs": [],
   "source": [
    "class BankAccount:\n",
    "    def __init__(self, name, balance = 0.0):\n",
    "        self.name = name\n",
    "        self.balance = balance\n",
    "        self.log(\"Account created\")\n",
    "    \n",
    "    # seve the log data in a file in the pc\n",
    "    def log(self, message):\n",
    "        myLog = open(\"log.txt\", \"a\")\n",
    "        print(message, file = myLog)\n",
    "        myLog.close()\n",
    "    \n",
    "    def getBalance(self):\n",
    "        self.log(\"Balance checked at \" + str(self.balance))\n",
    "        return self.balance\n",
    "    \n",
    "    def deposit(self, amount):\n",
    "        self.balance += amount\n",
    "        self.log(\"+\" + str(amount) + \": \" + str(self.balance))\n",
    "    \n",
    "    def withdraw(self, amount):\n",
    "        self.balance -= amount\n",
    "        self.log(\"-\" + str(amount) + \": \" + str(self.balance))\n",
    "        \n",
    "        "
   ]
  },
  {
   "cell_type": "code",
   "execution_count": 51,
   "metadata": {},
   "outputs": [
    {
     "name": "stdout",
     "output_type": "stream",
     "text": [
      "20.0\n",
      "15.0\n"
     ]
    }
   ],
   "source": [
    "myBA = BankAccount(\"David Joyner\")\n",
    "myBA.deposit(20.0)\n",
    "print(myBA.getBalance())\n",
    "myBA.withdraw(5)\n",
    "print(myBA.getBalance())\n",
    "myBA.withdraw(5)\n"
   ]
  },
  {
   "cell_type": "code",
   "execution_count": 53,
   "metadata": {},
   "outputs": [],
   "source": []
  },
  {
   "cell_type": "code",
   "execution_count": 54,
   "metadata": {},
   "outputs": [
    {
     "name": "stdout",
     "output_type": "stream",
     "text": [
      "Account created\r\n",
      "Balance changed to 20.0\r\n",
      "Balance checked at 20.0\r\n",
      "Account created\r\n",
      "Account created\r\n",
      "Account created\r\n",
      "+20.0: 20.0\r\n",
      "Balance checked at 20.0\r\n",
      "-5: 15.0\r\n",
      "Balance checked at 15.0\r\n",
      "-3: 12.0\r\n"
     ]
    }
   ],
   "source": [
    "cat log.txt"
   ]
  },
  {
   "cell_type": "code",
   "execution_count": 55,
   "metadata": {},
   "outputs": [],
   "source": [
    "class Person:\n",
    "    def __init__(self, name, eye, age):\n",
    "        self.name = name\n",
    "        self.eye = eye\n",
    "        self.age = age\n",
    "        \n",
    "        \n",
    "class Name:\n",
    "    def __init__(self, firstname, lastname):\n",
    "        self.firstname = firstname\n",
    "        self.lastname = lastname\n",
    "    "
   ]
  },
  {
   "cell_type": "code",
   "execution_count": 68,
   "metadata": {},
   "outputs": [],
   "source": [
    "myPerson = Person( \n",
    "    Name(\"David\", \"Jouner\") \n",
    "    , \"brown\" \n",
    "    , 30)"
   ]
  },
  {
   "cell_type": "code",
   "execution_count": 58,
   "metadata": {},
   "outputs": [
    {
     "name": "stdout",
     "output_type": "stream",
     "text": [
      "David\n"
     ]
    }
   ],
   "source": [
    "print(myPerson.name.firstname)"
   ]
  },
  {
   "cell_type": "code",
   "execution_count": 61,
   "metadata": {},
   "outputs": [],
   "source": [
    "def capitalizeName(name):\n",
    "    name.firstname = name.firstname.upper()\n",
    "    name.lastname = name.lastname.upper()"
   ]
  },
  {
   "cell_type": "code",
   "execution_count": 65,
   "metadata": {},
   "outputs": [
    {
     "name": "stdout",
     "output_type": "stream",
     "text": [
      "DAVID JOUNER\n"
     ]
    }
   ],
   "source": [
    "capitalizeName(myPerson.name)\n",
    "print(myPerson.name.firstname , myPerson.name.lastname)"
   ]
  },
  {
   "cell_type": "code",
   "execution_count": 69,
   "metadata": {},
   "outputs": [],
   "source": [
    "def capitalizeString(string):\n",
    "    string = string.upper()"
   ]
  },
  {
   "cell_type": "code",
   "execution_count": 70,
   "metadata": {},
   "outputs": [
    {
     "name": "stdout",
     "output_type": "stream",
     "text": [
      "David Jouner\n"
     ]
    }
   ],
   "source": [
    "capitalizeString(myPerson.name.firstname)\n",
    "print(myPerson.name.firstname , myPerson.name.lastname)"
   ]
  },
  {
   "cell_type": "code",
   "execution_count": 71,
   "metadata": {},
   "outputs": [],
   "source": [
    "myPerson = Person( \n",
    "    Name(\"David\", \"Jouner\") \n",
    "    , \"brown\" \n",
    "    , 30)"
   ]
  },
  {
   "cell_type": "code",
   "execution_count": 73,
   "metadata": {},
   "outputs": [
    {
     "name": "stdout",
     "output_type": "stream",
     "text": [
      "David\n"
     ]
    }
   ],
   "source": [
    "# Duplicating a person object\n",
    "myPerson2 = Person(Name(\"verslkd\",\"hahah)\", myPerson.eye, myPerson.age)\n",
    "print(myPerson2.name.firstname)\n",
    "myPerson2.name.firstname = \"Emiliano\""
   ]
  },
  {
   "cell_type": "markdown",
   "metadata": {},
   "source": [
    "## Introduction to Polymorphism and Inheritance and Abstraction"
   ]
  },
  {
   "cell_type": "code",
   "execution_count": null,
   "metadata": {},
   "outputs": [],
   "source": []
  },
  {
   "cell_type": "code",
   "execution_count": null,
   "metadata": {},
   "outputs": [],
   "source": []
  },
  {
   "cell_type": "code",
   "execution_count": null,
   "metadata": {},
   "outputs": [],
   "source": []
  }
 ],
 "metadata": {
  "kernelspec": {
   "display_name": "Python 3",
   "language": "python",
   "name": "python3"
  },
  "language_info": {
   "codemirror_mode": {
    "name": "ipython",
    "version": 3
   },
   "file_extension": ".py",
   "mimetype": "text/x-python",
   "name": "python",
   "nbconvert_exporter": "python",
   "pygments_lexer": "ipython3",
   "version": "3.6.9"
  }
 },
 "nbformat": 4,
 "nbformat_minor": 4
}
