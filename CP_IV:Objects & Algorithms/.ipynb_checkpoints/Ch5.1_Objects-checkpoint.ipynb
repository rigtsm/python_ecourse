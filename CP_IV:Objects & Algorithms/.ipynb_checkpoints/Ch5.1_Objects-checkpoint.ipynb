{
 "cells": [
  {
   "cell_type": "markdown",
   "metadata": {},
   "source": [
    "## Introduction to What Are Objects"
   ]
  },
  {
   "cell_type": "markdown",
   "metadata": {},
   "source": [
    "**Object-oriented programming**: A programming paradigm where programmers define custom data types that have custom methods embedded within them.\n",
    "\n",
    "**Object**: An object is a custom **data structure** that organizes and encapsulates variables and methods into a single data type. It is used near-interchangeably with “instance.”\n",
    "\n",
    "**Class**: A custom data type comprised of multiple variables and/or methods. Instances or objects are created based on the template provided by the class.\n",
    "\n",
    "**Instance**: A single set of values of a particular class. Classes may be comprised of multiple variables; an instance is a set of values for these variables. The term “instance” is often used interchangeably with the term “object”."
   ]
  },
  {
   "cell_type": "markdown",
   "metadata": {},
   "source": [
    "## Defining classes\n",
    "When a new instance of a class is created, then the first think is executed is the methed **__init__(self)**.\n",
    "- A function inside a class is called a method\n",
    "- **self.variable** where **self** tells python to define the **variable** and any other code inside the class will be able to see this **variables** as long it accessed them with **self**"
   ]
  },
  {
   "cell_type": "code",
   "execution_count": 3,
   "metadata": {},
   "outputs": [],
   "source": [
    "# self tell python \n",
    "class Name:\n",
    "    def __init__(self):\n",
    "        self.firstname = \"\"\n",
    "        self.lastname = \"\"\n",
    "\n",
    "class Person:\n",
    "    def __init__(self):\n",
    "        self.name = Name()\n",
    "        self.eyecolor = \"\"\n",
    "        age = -1\n"
   ]
  },
  {
   "cell_type": "code",
   "execution_count": null,
   "metadata": {},
   "outputs": [],
   "source": []
  },
  {
   "cell_type": "code",
   "execution_count": null,
   "metadata": {},
   "outputs": [],
   "source": []
  },
  {
   "cell_type": "code",
   "execution_count": null,
   "metadata": {},
   "outputs": [],
   "source": []
  },
  {
   "cell_type": "code",
   "execution_count": null,
   "metadata": {},
   "outputs": [],
   "source": []
  },
  {
   "cell_type": "code",
   "execution_count": null,
   "metadata": {},
   "outputs": [],
   "source": []
  },
  {
   "cell_type": "code",
   "execution_count": null,
   "metadata": {},
   "outputs": [],
   "source": []
  },
  {
   "cell_type": "code",
   "execution_count": null,
   "metadata": {},
   "outputs": [],
   "source": []
  },
  {
   "cell_type": "code",
   "execution_count": null,
   "metadata": {},
   "outputs": [],
   "source": []
  }
 ],
 "metadata": {
  "kernelspec": {
   "display_name": "Python 3",
   "language": "python",
   "name": "python3"
  },
  "language_info": {
   "codemirror_mode": {
    "name": "ipython",
    "version": 3
   },
   "file_extension": ".py",
   "mimetype": "text/x-python",
   "name": "python",
   "nbconvert_exporter": "python",
   "pygments_lexer": "ipython3",
   "version": "3.6.9"
  }
 },
 "nbformat": 4,
 "nbformat_minor": 4
}
