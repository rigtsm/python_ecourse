{
 "cells": [
  {
   "cell_type": "markdown",
   "metadata": {},
   "source": [
    "## Introduction to What Are Objects"
   ]
  },
  {
   "cell_type": "markdown",
   "metadata": {},
   "source": [
    "**Object-oriented programming**: A programming paradigm where programmers define custom data types that have custom methods embedded within them.\n",
    "\n",
    "**Object**: An object is a custom **data structure** that organizes and encapsulates variables and methods into a single data type. It is used near-interchangeably with “instance.”\n",
    "\n",
    "**Class**: A custom data type comprised of multiple variables and/or methods. Instances or objects are created based on the template provided by the class.\n",
    "\n",
    "**Instance**: A single set of values of a particular class. Classes may be comprised of multiple variables; an instance is a set of values for these variables. The term “instance” is often used interchangeably with the term “object”.\n",
    "\n",
    "**Encapsulation**: The ability to combine variables and methods into class definitions in object-oriented programming. It helps avoid modification or misuse of data by other functions or programs.\n",
    "\n",
    "**Constructor**: A common type of method in writing classes that specifies some code to run whenever a new instance of the class is created. The constructor often has parameters that provide values to initialize the variables defined by the class.\n",
    "\n",
    "**_ _ method _ _** : There is no way to bindingly mark a variable or method in a Python class as **private**.\n",
    "Meaning that other code can always access variables directly. By convention, we often perceive variables or methods that we don't want other classes or functions to access with a double underscore. So proceeding in it with a double underscore as a way of saying don't try to run this method directly. **You can, but you shouldn't.**"
   ]
  },
  {
   "cell_type": "markdown",
   "metadata": {},
   "source": [
    "## Defining classes\n",
    "When a new instance of a class is created, then the first think is executed is the methed **__init__(self)**.\n",
    "- A function inside a class is called a method\n",
    "- when e new instance is created, the first method called is the **__init(self)__**\n",
    "- **self.variable** where **self** tells python to define the **variable** and any other code inside the class will be able to see this **variables** as long it accessed them with **self**"
   ]
  },
  {
   "cell_type": "code",
   "execution_count": 11,
   "metadata": {},
   "outputs": [],
   "source": [
    "# self tell python \n",
    "class Name:\n",
    "    def __init__(self):\n",
    "        self.firstname = \"\"\n",
    "        self.lastname = \"\"\n",
    "\n",
    "class Person:\n",
    "    def __init__(self):\n",
    "        self.name = Name()\n",
    "        self.eyecolor = \"\"\n",
    "        self.age = -1\n"
   ]
  },
  {
   "cell_type": "code",
   "execution_count": null,
   "metadata": {},
   "outputs": [],
   "source": []
  },
  {
   "cell_type": "code",
   "execution_count": 14,
   "metadata": {},
   "outputs": [
    {
     "name": "stdout",
     "output_type": "stream",
     "text": [
      "-1\n",
      "15\n",
      "Marco\n"
     ]
    }
   ],
   "source": [
    "myPerson = Person()\n",
    "print(myPerson.age)\n",
    "myPerson.age = 15\n",
    "print(myPerson.age)\n",
    "myPerson.name.firstname = \"Marco\"\n",
    "print(myPerson.name.firstname)"
   ]
  },
  {
   "cell_type": "markdown",
   "metadata": {},
   "source": [
    "## Objects vs. Dictionaries "
   ]
  },
  {
   "cell_type": "code",
   "execution_count": 21,
   "metadata": {},
   "outputs": [],
   "source": [
    "class Name:\n",
    "    def __init__(self):\n",
    "        self.firstname = \"no_name\"\n",
    "        self.lastname = \"no_last\"\n",
    "        \n",
    "myNameDict = {\"firstname\" : \"no_anme\", \"lastname\":\"no_name\"}\n",
    "\n",
    "myNameInst = Name()\n",
    "myNameInst.firstname = \"David\"\n",
    "myNameDict[\"firstname\"] = \"David\""
   ]
  },
  {
   "cell_type": "code",
   "execution_count": 22,
   "metadata": {},
   "outputs": [
    {
     "name": "stdout",
     "output_type": "stream",
     "text": [
      "David\n",
      "David\n"
     ]
    }
   ],
   "source": [
    "print(myNameDict[\"firstname\"])\n",
    "print(myNameInst.firstname)"
   ]
  },
  {
   "cell_type": "markdown",
   "metadata": {},
   "source": [
    "## Encapsulating Methods in Classes "
   ]
  },
  {
   "cell_type": "code",
   "execution_count": 27,
   "metadata": {},
   "outputs": [
    {
     "name": "stdout",
     "output_type": "stream",
     "text": [
      "Emi\n",
      "Ser\n",
      "-1\n"
     ]
    }
   ],
   "source": [
    "class Person:\n",
    "    def __init__(self, firstname, lastname):\n",
    "        self.firstname = firstname\n",
    "        self.lastname = lastname\n",
    "        self.eyecolor = \"-\"\n",
    "        self.age = -1\n",
    "\n",
    "myPerson = Person(\"Emi\", \"Ser\")\n",
    "print(myPerson.firstname)\n",
    "print(myPerson.lastname)\n",
    "print(myPerson.age)"
   ]
  },
  {
   "cell_type": "code",
   "execution_count": 30,
   "metadata": {},
   "outputs": [
    {
     "name": "stdout",
     "output_type": "stream",
     "text": [
      "--\n",
      "--\n",
      "-1\n"
     ]
    }
   ],
   "source": [
    "class Person:\n",
    "    # setting the variables to default values\n",
    "    def __init__(self, firstname = \"--\", lastname = \"--\"):\n",
    "        self.firstname = firstname\n",
    "        self.lastname = lastname\n",
    "        self.eyecolor = \"-\"\n",
    "        self.age = -1\n",
    "\n",
    "myPerson = Person()\n",
    "print(myPerson.firstname)\n",
    "print(myPerson.lastname)\n",
    "print(myPerson.age)"
   ]
  },
  {
   "cell_type": "code",
   "execution_count": 50,
   "metadata": {},
   "outputs": [],
   "source": [
    "class BankAccount:\n",
    "    def __init__(self, name, balance = 0.0):\n",
    "        self.name = name\n",
    "        self.balance = balance\n",
    "        self.log(\"Account created\")\n",
    "    \n",
    "    # seve the log data in a file in the pc\n",
    "    def log(self, message):\n",
    "        myLog = open(\"log.txt\", \"a\")\n",
    "        print(message, file = myLog)\n",
    "        myLog.close()\n",
    "    \n",
    "    def getBalance(self):\n",
    "        self.log(\"Balance checked at \" + str(self.balance))\n",
    "        return self.balance\n",
    "    \n",
    "    def deposit(self, amount):\n",
    "        self.balance += amount\n",
    "        self.log(\"+\" + str(amount) + \": \" + str(self.balance))\n",
    "    \n",
    "    def withdraw(self, amount):\n",
    "        self.balance -= amount\n",
    "        self.log(\"-\" + str(amount) + \": \" + str(self.balance))\n",
    "        \n",
    "        "
   ]
  },
  {
   "cell_type": "code",
   "execution_count": 51,
   "metadata": {},
   "outputs": [
    {
     "name": "stdout",
     "output_type": "stream",
     "text": [
      "20.0\n",
      "15.0\n"
     ]
    }
   ],
   "source": [
    "myBA = BankAccount(\"David Joyner\")\n",
    "myBA.deposit(20.0)\n",
    "print(myBA.getBalance())\n",
    "myBA.withdraw(5)\n",
    "print(myBA.getBalance())\n",
    "myBA.withdraw(5)\n"
   ]
  },
  {
   "cell_type": "code",
   "execution_count": 53,
   "metadata": {},
   "outputs": [],
   "source": []
  },
  {
   "cell_type": "code",
   "execution_count": 54,
   "metadata": {},
   "outputs": [
    {
     "name": "stdout",
     "output_type": "stream",
     "text": [
      "Account created\r\n",
      "Balance changed to 20.0\r\n",
      "Balance checked at 20.0\r\n",
      "Account created\r\n",
      "Account created\r\n",
      "Account created\r\n",
      "+20.0: 20.0\r\n",
      "Balance checked at 20.0\r\n",
      "-5: 15.0\r\n",
      "Balance checked at 15.0\r\n",
      "-3: 12.0\r\n"
     ]
    }
   ],
   "source": [
    "cat log.txt"
   ]
  },
  {
   "cell_type": "code",
   "execution_count": null,
   "metadata": {},
   "outputs": [],
   "source": []
  },
  {
   "cell_type": "code",
   "execution_count": null,
   "metadata": {},
   "outputs": [],
   "source": []
  },
  {
   "cell_type": "code",
   "execution_count": null,
   "metadata": {},
   "outputs": [],
   "source": []
  },
  {
   "cell_type": "code",
   "execution_count": null,
   "metadata": {},
   "outputs": [],
   "source": []
  },
  {
   "cell_type": "code",
   "execution_count": null,
   "metadata": {},
   "outputs": [],
   "source": []
  },
  {
   "cell_type": "code",
   "execution_count": null,
   "metadata": {},
   "outputs": [],
   "source": []
  }
 ],
 "metadata": {
  "kernelspec": {
   "display_name": "Python 3",
   "language": "python",
   "name": "python3"
  },
  "language_info": {
   "codemirror_mode": {
    "name": "ipython",
    "version": 3
   },
   "file_extension": ".py",
   "mimetype": "text/x-python",
   "name": "python",
   "nbconvert_exporter": "python",
   "pygments_lexer": "ipython3",
   "version": "3.6.9"
  }
 },
 "nbformat": 4,
 "nbformat_minor": 4
}
